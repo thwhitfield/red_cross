{
 "cells": [
  {
   "cell_type": "markdown",
   "metadata": {},
   "source": [
    "# Red Cross Fire Risk Analysis"
   ]
  },
  {
   "cell_type": "markdown",
   "metadata": {},
   "source": [
    "# 1. Introduction\n",
    "\n",
    "This project is with the Red Cross who have partnered with DataKind DC to do some of this data analysis work for them. "
   ]
  },
  {
   "cell_type": "markdown",
   "metadata": {},
   "source": [
    "# 2. Problem Statement\n",
    "\n",
    "1. Create a risk assessment to help Red Cross members target geographic areas to do free smoke alarm installation initiatives"
   ]
  },
  {
   "cell_type": "markdown",
   "metadata": {},
   "source": [
    "# 3. Summary of Results"
   ]
  },
  {
   "cell_type": "markdown",
   "metadata": {},
   "source": [
    "# 4. Data Sources\n",
    "\n",
    "1. NFIRS database of fires from 2009 - 2016\n",
    "    1. Contains a row for each fire in the United States which was reported through the system (estimated to be about 75% of fires nationally). \n",
    "    2. Contains the exact address, which can then be geo-coded into the appropriate census tract, block group, or individual block.\n",
    "\n",
    "\n",
    "2. Social Vulnerability Index (SVI) datasets\n",
    "    1. Each dataset contains data aggregated at the census tract level \n",
    "    2. SVI2016_US - estimates covering 2012-2016\n",
    "    3. SVI2014_US - estimates covering 2010-2014\n",
    "    4. SVI2010_US - estimates covering 2006-2010 & some raw census data from 2010\n",
    "    5. SVI2000_US - estimates made using raw census data from 2000"
   ]
  },
  {
   "cell_type": "markdown",
   "metadata": {},
   "source": [
    "# 5. Methodology\n",
    "\n",
    "1. "
   ]
  },
  {
   "cell_type": "code",
   "execution_count": null,
   "metadata": {},
   "outputs": [],
   "source": []
  },
  {
   "cell_type": "code",
   "execution_count": null,
   "metadata": {},
   "outputs": [],
   "source": []
  }
 ],
 "metadata": {
  "kernelspec": {
   "display_name": "Python 3",
   "language": "python",
   "name": "python3"
  },
  "language_info": {
   "codemirror_mode": {
    "name": "ipython",
    "version": 3
   },
   "file_extension": ".py",
   "mimetype": "text/x-python",
   "name": "python",
   "nbconvert_exporter": "python",
   "pygments_lexer": "ipython3",
   "version": "3.6.8"
  }
 },
 "nbformat": 4,
 "nbformat_minor": 4
}
