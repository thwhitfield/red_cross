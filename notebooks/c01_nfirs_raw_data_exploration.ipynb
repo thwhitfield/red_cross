{
 "cells": [
  {
   "cell_type": "code",
   "execution_count": 1,
   "metadata": {},
   "outputs": [],
   "source": [
    "import pandas as pd\n",
    "import numpy as np\n",
    "import matplotlib.pyplot as plt\n",
    "import seaborn as sns\n",
    "from io import StringIO\n",
    "import json\n",
    "\n",
    "%matplotlib inline\n",
    "pd.set_option('display.max_columns',500)\n",
    "sns.set()"
   ]
  },
  {
   "cell_type": "markdown",
   "metadata": {},
   "source": [
    "## Question 1: Does presence of smoke alarm improve survivability of fire\n",
    "Null Hypothesis: There's no difference between survivability rates in fires with a smoke alarm and those without."
   ]
  },
  {
   "cell_type": "code",
   "execution_count": 2,
   "metadata": {},
   "outputs": [
    {
     "name": "stdout",
     "output_type": "stream",
     "text": [
      " Volume in drive C is Acer\n",
      " Volume Serial Number is 14B0-52B3\n",
      "\n",
      " Directory of C:\\Users\\thwhi\\Dropbox\\Personal\\Programming\\DataKind Red Cross Project\\data\\02_interim\n",
      "\n",
      "10/20/2019  12:42 AM    <DIR>          .\n",
      "10/20/2019  12:42 AM    <DIR>          ..\n",
      "10/19/2019  02:00 PM    <DIR>          .ipynb_checkpoints\n",
      "10/20/2019  12:42 AM       250,251,601 01_nfirs_cleaned.csv\n",
      "10/19/2019  03:50 PM             3,810 01_nfirs_data_dictionary.json\n",
      "10/19/2019  08:31 PM       330,523,193 03_nfirs_geoids.csv\n",
      "10/20/2019  12:42 AM    <DIR>          10000row_chunks\n",
      "10/19/2019  07:03 PM    <DIR>          10000row_geoid_output\n",
      "10/19/2019  01:55 PM            42,000 geo_batch_input.csv\n",
      "10/19/2019  02:16 PM               460 geo_batch_input_10_rows.csv\n",
      "10/20/2019  12:42 AM             3,810 nfirs_data_dictionary.json\n",
      "10/19/2019  03:16 PM            36,452 test.ipynb\n",
      "               7 File(s)    580,861,326 bytes\n",
      "               5 Dir(s)   5,571,747,840 bytes free\n"
     ]
    }
   ],
   "source": [
    "! dir ..\\data\\02_interim"
   ]
  },
  {
   "cell_type": "code",
   "execution_count": 3,
   "metadata": {},
   "outputs": [
    {
     "name": "stderr",
     "output_type": "stream",
     "text": [
      "C:\\Users\\thwhi\\Anaconda3\\lib\\site-packages\\IPython\\core\\interactiveshell.py:3057: DtypeWarning: Columns (3,7,17,19) have mixed types. Specify dtype option on import or set low_memory=False.\n",
      "  interactivity=interactivity, compiler=compiler, result=result)\n"
     ]
    }
   ],
   "source": [
    "nfirs = pd.read_csv('../data/02_interim/01_nfirs_cleaned.csv',dtype={})\n",
    "\n",
    "with open('../data/02_interim/01_nfirs_data_dictionary.json','r') as f:\n",
    "    nfirs_dictionary = json.load(f)"
   ]
  },
  {
   "cell_type": "code",
   "execution_count": 4,
   "metadata": {},
   "outputs": [
    {
     "data": {
      "text/html": [
       "<div>\n",
       "<style scoped>\n",
       "    .dataframe tbody tr th:only-of-type {\n",
       "        vertical-align: middle;\n",
       "    }\n",
       "\n",
       "    .dataframe tbody tr th {\n",
       "        vertical-align: top;\n",
       "    }\n",
       "\n",
       "    .dataframe thead th {\n",
       "        text-align: right;\n",
       "    }\n",
       "</style>\n",
       "<table border=\"1\" class=\"dataframe\">\n",
       "  <thead>\n",
       "    <tr style=\"text-align: right;\">\n",
       "      <th></th>\n",
       "      <th>Unnamed: 0</th>\n",
       "      <th>rcp2_id</th>\n",
       "      <th>state</th>\n",
       "      <th>fdid</th>\n",
       "      <th>inc_no</th>\n",
       "      <th>city</th>\n",
       "      <th>street</th>\n",
       "      <th>zip5</th>\n",
       "      <th>inc_date</th>\n",
       "      <th>oth_inj</th>\n",
       "      <th>oth_death</th>\n",
       "      <th>exp_no</th>\n",
       "      <th>inc_type</th>\n",
       "      <th>prop_loss</th>\n",
       "      <th>cont_loss</th>\n",
       "      <th>tot_loss</th>\n",
       "      <th>detector</th>\n",
       "      <th>det_type</th>\n",
       "      <th>det_power</th>\n",
       "      <th>det_operat</th>\n",
       "      <th>det_effect</th>\n",
       "      <th>det_fail</th>\n",
       "      <th>aes_pres</th>\n",
       "      <th>aes_type</th>\n",
       "      <th>aes_oper</th>\n",
       "      <th>no_spr_op</th>\n",
       "      <th>aes_fail</th>\n",
       "    </tr>\n",
       "  </thead>\n",
       "  <tbody>\n",
       "    <tr>\n",
       "      <th>0</th>\n",
       "      <td>0</td>\n",
       "      <td>rcp2_id1</td>\n",
       "      <td>AK</td>\n",
       "      <td>11100</td>\n",
       "      <td>211</td>\n",
       "      <td>JUNEAU</td>\n",
       "      <td>1700 ANGUS WAY</td>\n",
       "      <td>99801</td>\n",
       "      <td>2009-01-03</td>\n",
       "      <td>0.0</td>\n",
       "      <td>0.0</td>\n",
       "      <td>0.0</td>\n",
       "      <td>111</td>\n",
       "      <td>20000.0</td>\n",
       "      <td>5000.0</td>\n",
       "      <td>25000.0</td>\n",
       "      <td>1</td>\n",
       "      <td>1</td>\n",
       "      <td>1</td>\n",
       "      <td>2</td>\n",
       "      <td>1</td>\n",
       "      <td>NaN</td>\n",
       "      <td>N</td>\n",
       "      <td>NaN</td>\n",
       "      <td>NaN</td>\n",
       "      <td>NaN</td>\n",
       "      <td>NaN</td>\n",
       "    </tr>\n",
       "    <tr>\n",
       "      <th>1</th>\n",
       "      <td>1</td>\n",
       "      <td>rcp2_id2</td>\n",
       "      <td>AK</td>\n",
       "      <td>11100</td>\n",
       "      <td>470</td>\n",
       "      <td>JUNEAU</td>\n",
       "      <td>3221 PIONEER AVE</td>\n",
       "      <td>99801</td>\n",
       "      <td>2009-01-06</td>\n",
       "      <td>0.0</td>\n",
       "      <td>0.0</td>\n",
       "      <td>0.0</td>\n",
       "      <td>114</td>\n",
       "      <td>0.0</td>\n",
       "      <td>0.0</td>\n",
       "      <td>0.0</td>\n",
       "      <td>NaN</td>\n",
       "      <td>NaN</td>\n",
       "      <td>NaN</td>\n",
       "      <td>NaN</td>\n",
       "      <td>NaN</td>\n",
       "      <td>NaN</td>\n",
       "      <td>NaN</td>\n",
       "      <td>NaN</td>\n",
       "      <td>NaN</td>\n",
       "      <td>NaN</td>\n",
       "      <td>NaN</td>\n",
       "    </tr>\n",
       "    <tr>\n",
       "      <th>2</th>\n",
       "      <td>2</td>\n",
       "      <td>rcp2_id3</td>\n",
       "      <td>AK</td>\n",
       "      <td>11100</td>\n",
       "      <td>556</td>\n",
       "      <td>JUNEAU</td>\n",
       "      <td>10231 HERON WAY</td>\n",
       "      <td>99801</td>\n",
       "      <td>2009-01-06</td>\n",
       "      <td>0.0</td>\n",
       "      <td>0.0</td>\n",
       "      <td>0.0</td>\n",
       "      <td>111</td>\n",
       "      <td>20000.0</td>\n",
       "      <td>5000.0</td>\n",
       "      <td>25000.0</td>\n",
       "      <td>N</td>\n",
       "      <td>NaN</td>\n",
       "      <td>NaN</td>\n",
       "      <td>NaN</td>\n",
       "      <td>NaN</td>\n",
       "      <td>NaN</td>\n",
       "      <td>N</td>\n",
       "      <td>NaN</td>\n",
       "      <td>NaN</td>\n",
       "      <td>NaN</td>\n",
       "      <td>NaN</td>\n",
       "    </tr>\n",
       "    <tr>\n",
       "      <th>3</th>\n",
       "      <td>3</td>\n",
       "      <td>rcp2_id4</td>\n",
       "      <td>AK</td>\n",
       "      <td>11100</td>\n",
       "      <td>1315</td>\n",
       "      <td>JUNEAU</td>\n",
       "      <td>6590 GLACIER HWY</td>\n",
       "      <td>99801</td>\n",
       "      <td>2009-01-13</td>\n",
       "      <td>0.0</td>\n",
       "      <td>0.0</td>\n",
       "      <td>0.0</td>\n",
       "      <td>113</td>\n",
       "      <td>200.0</td>\n",
       "      <td>20.0</td>\n",
       "      <td>220.0</td>\n",
       "      <td>NaN</td>\n",
       "      <td>NaN</td>\n",
       "      <td>NaN</td>\n",
       "      <td>NaN</td>\n",
       "      <td>NaN</td>\n",
       "      <td>NaN</td>\n",
       "      <td>NaN</td>\n",
       "      <td>NaN</td>\n",
       "      <td>NaN</td>\n",
       "      <td>NaN</td>\n",
       "      <td>NaN</td>\n",
       "    </tr>\n",
       "    <tr>\n",
       "      <th>4</th>\n",
       "      <td>4</td>\n",
       "      <td>rcp2_id5</td>\n",
       "      <td>AK</td>\n",
       "      <td>11100</td>\n",
       "      <td>2151</td>\n",
       "      <td>JUNEAU</td>\n",
       "      <td>6590 GLACIER HWY</td>\n",
       "      <td>99801</td>\n",
       "      <td>2009-01-21</td>\n",
       "      <td>0.0</td>\n",
       "      <td>0.0</td>\n",
       "      <td>0.0</td>\n",
       "      <td>111</td>\n",
       "      <td>35000.0</td>\n",
       "      <td>5000.0</td>\n",
       "      <td>40000.0</td>\n",
       "      <td>N</td>\n",
       "      <td>NaN</td>\n",
       "      <td>NaN</td>\n",
       "      <td>NaN</td>\n",
       "      <td>NaN</td>\n",
       "      <td>NaN</td>\n",
       "      <td>N</td>\n",
       "      <td>NaN</td>\n",
       "      <td>NaN</td>\n",
       "      <td>NaN</td>\n",
       "      <td>NaN</td>\n",
       "    </tr>\n",
       "  </tbody>\n",
       "</table>\n",
       "</div>"
      ],
      "text/plain": [
       "   Unnamed: 0   rcp2_id state   fdid inc_no    city            street   zip5  \\\n",
       "0           0  rcp2_id1    AK  11100    211  JUNEAU    1700 ANGUS WAY  99801   \n",
       "1           1  rcp2_id2    AK  11100    470  JUNEAU  3221 PIONEER AVE  99801   \n",
       "2           2  rcp2_id3    AK  11100    556  JUNEAU   10231 HERON WAY  99801   \n",
       "3           3  rcp2_id4    AK  11100   1315  JUNEAU  6590 GLACIER HWY  99801   \n",
       "4           4  rcp2_id5    AK  11100   2151  JUNEAU  6590 GLACIER HWY  99801   \n",
       "\n",
       "     inc_date  oth_inj  oth_death  exp_no  inc_type  prop_loss  cont_loss  \\\n",
       "0  2009-01-03      0.0        0.0     0.0       111    20000.0     5000.0   \n",
       "1  2009-01-06      0.0        0.0     0.0       114        0.0        0.0   \n",
       "2  2009-01-06      0.0        0.0     0.0       111    20000.0     5000.0   \n",
       "3  2009-01-13      0.0        0.0     0.0       113      200.0       20.0   \n",
       "4  2009-01-21      0.0        0.0     0.0       111    35000.0     5000.0   \n",
       "\n",
       "   tot_loss detector det_type det_power det_operat det_effect det_fail  \\\n",
       "0   25000.0        1        1         1          2          1      NaN   \n",
       "1       0.0      NaN      NaN       NaN        NaN        NaN      NaN   \n",
       "2   25000.0        N      NaN       NaN        NaN        NaN      NaN   \n",
       "3     220.0      NaN      NaN       NaN        NaN        NaN      NaN   \n",
       "4   40000.0        N      NaN       NaN        NaN        NaN      NaN   \n",
       "\n",
       "  aes_pres aes_type aes_oper  no_spr_op aes_fail  \n",
       "0        N      NaN      NaN        NaN      NaN  \n",
       "1      NaN      NaN      NaN        NaN      NaN  \n",
       "2        N      NaN      NaN        NaN      NaN  \n",
       "3      NaN      NaN      NaN        NaN      NaN  \n",
       "4        N      NaN      NaN        NaN      NaN  "
      ]
     },
     "execution_count": 4,
     "metadata": {},
     "output_type": "execute_result"
    }
   ],
   "source": [
    "nfirs.head()"
   ]
  },
  {
   "cell_type": "code",
   "execution_count": 5,
   "metadata": {},
   "outputs": [],
   "source": [
    "df = nfirs.iloc[:1000]"
   ]
  },
  {
   "cell_type": "code",
   "execution_count": 6,
   "metadata": {},
   "outputs": [
    {
     "data": {
      "text/plain": [
       "NaN    925886\n",
       "1      466610\n",
       "U      301345\n",
       "N      265265\n",
       "Name: detector, dtype: int64"
      ]
     },
     "execution_count": 6,
     "metadata": {},
     "output_type": "execute_result"
    }
   ],
   "source": [
    "nfirs['detector'].value_counts(dropna=False)"
   ]
  },
  {
   "cell_type": "code",
   "execution_count": 7,
   "metadata": {},
   "outputs": [],
   "source": [
    "df = nfirs[(nfirs['detector'] == '1') | (nfirs['detector']=='N')].copy()"
   ]
  },
  {
   "cell_type": "code",
   "execution_count": 8,
   "metadata": {},
   "outputs": [],
   "source": [
    "df['fatal'] = df['oth_death'] > 0"
   ]
  },
  {
   "cell_type": "code",
   "execution_count": 9,
   "metadata": {},
   "outputs": [
    {
     "data": {
      "text/html": [
       "<div>\n",
       "<style scoped>\n",
       "    .dataframe tbody tr th:only-of-type {\n",
       "        vertical-align: middle;\n",
       "    }\n",
       "\n",
       "    .dataframe tbody tr th {\n",
       "        vertical-align: top;\n",
       "    }\n",
       "\n",
       "    .dataframe thead th {\n",
       "        text-align: right;\n",
       "    }\n",
       "</style>\n",
       "<table border=\"1\" class=\"dataframe\">\n",
       "  <thead>\n",
       "    <tr style=\"text-align: right;\">\n",
       "      <th>fatal</th>\n",
       "      <th>False</th>\n",
       "      <th>True</th>\n",
       "    </tr>\n",
       "    <tr>\n",
       "      <th>detector</th>\n",
       "      <th></th>\n",
       "      <th></th>\n",
       "    </tr>\n",
       "  </thead>\n",
       "  <tbody>\n",
       "    <tr>\n",
       "      <th>1</th>\n",
       "      <td>463229</td>\n",
       "      <td>3381</td>\n",
       "    </tr>\n",
       "    <tr>\n",
       "      <th>N</th>\n",
       "      <td>263168</td>\n",
       "      <td>2097</td>\n",
       "    </tr>\n",
       "  </tbody>\n",
       "</table>\n",
       "</div>"
      ],
      "text/plain": [
       "fatal      False  True \n",
       "detector               \n",
       "1         463229   3381\n",
       "N         263168   2097"
      ]
     },
     "execution_count": 9,
     "metadata": {},
     "output_type": "execute_result"
    }
   ],
   "source": [
    "df_cross = pd.crosstab(df['detector'],df['fatal'])\n",
    "df_cross"
   ]
  },
  {
   "cell_type": "code",
   "execution_count": 10,
   "metadata": {},
   "outputs": [],
   "source": [
    "df_cross['ratio'] = df_cross[True] / df_cross[False]"
   ]
  },
  {
   "cell_type": "code",
   "execution_count": 11,
   "metadata": {},
   "outputs": [
    {
     "data": {
      "text/html": [
       "<div>\n",
       "<style scoped>\n",
       "    .dataframe tbody tr th:only-of-type {\n",
       "        vertical-align: middle;\n",
       "    }\n",
       "\n",
       "    .dataframe tbody tr th {\n",
       "        vertical-align: top;\n",
       "    }\n",
       "\n",
       "    .dataframe thead th {\n",
       "        text-align: right;\n",
       "    }\n",
       "</style>\n",
       "<table border=\"1\" class=\"dataframe\">\n",
       "  <thead>\n",
       "    <tr style=\"text-align: right;\">\n",
       "      <th>fatal</th>\n",
       "      <th>False</th>\n",
       "      <th>True</th>\n",
       "      <th>ratio</th>\n",
       "    </tr>\n",
       "    <tr>\n",
       "      <th>detector</th>\n",
       "      <th></th>\n",
       "      <th></th>\n",
       "      <th></th>\n",
       "    </tr>\n",
       "  </thead>\n",
       "  <tbody>\n",
       "    <tr>\n",
       "      <th>1</th>\n",
       "      <td>463229</td>\n",
       "      <td>3381</td>\n",
       "      <td>0.007299</td>\n",
       "    </tr>\n",
       "    <tr>\n",
       "      <th>N</th>\n",
       "      <td>263168</td>\n",
       "      <td>2097</td>\n",
       "      <td>0.007968</td>\n",
       "    </tr>\n",
       "  </tbody>\n",
       "</table>\n",
       "</div>"
      ],
      "text/plain": [
       "fatal      False  True     ratio\n",
       "detector                        \n",
       "1         463229  3381  0.007299\n",
       "N         263168  2097  0.007968"
      ]
     },
     "execution_count": 11,
     "metadata": {},
     "output_type": "execute_result"
    }
   ],
   "source": [
    "df_cross"
   ]
  },
  {
   "cell_type": "code",
   "execution_count": 14,
   "metadata": {},
   "outputs": [
    {
     "data": {
      "text/plain": [
       "0.08402403059414942"
      ]
     },
     "execution_count": 14,
     "metadata": {},
     "output_type": "execute_result"
    }
   ],
   "source": [
    "1 - df_cross['ratio']['1'] / df_cross['ratio']['N']"
   ]
  },
  {
   "cell_type": "code",
   "execution_count": 12,
   "metadata": {},
   "outputs": [
    {
     "data": {
      "text/plain": [
       "{'aes_fail': {'0': 'Reason system not effective, other',\n",
       "  '1': 'System shut off',\n",
       "  '2': 'Not enough agent discharged to control the fire',\n",
       "  '3': 'Agent discharged, but did not reach the fire',\n",
       "  '4': 'Inappropriate system for the type of fire',\n",
       "  '5': 'Fire not in area protected by the system',\n",
       "  '6': 'System components damaged',\n",
       "  '7': 'Lack of maintenance, including corrosion or heads painted',\n",
       "  '8': 'Manual intervention defeated the system',\n",
       "  'U': 'Undetermined'},\n",
       " 'aes_oper': {'0': 'Operation of AES, other',\n",
       "  '1': 'System operated and was effective',\n",
       "  '2': 'System operated and was not effective',\n",
       "  '3': 'Fire too small to activate system',\n",
       "  '4': 'System did not operate',\n",
       "  'U': 'Undetermined'},\n",
       " 'aes_pres': {'1': 'Present',\n",
       "  '2': 'Partial system present',\n",
       "  'N': 'None Present',\n",
       "  'U': 'Undetermined'},\n",
       " 'aes_type': {'0': 'Special hazard system, other',\n",
       "  '1': 'Wet-pipe sprinkler system',\n",
       "  '2': 'Dry-pipe sprinkler system',\n",
       "  '3': 'Other sprinkler system',\n",
       "  '4': 'Dry chemical system',\n",
       "  '5': 'Foam system',\n",
       "  '6': 'Halogen-type system',\n",
       "  '7': 'Carbon dioxide system',\n",
       "  'U': 'Undetermined'},\n",
       " 'det_effect': {'1': 'Detector alerted occupants, occupants responded',\n",
       "  '2': 'Detector alerted occupants, occupants failed to respond',\n",
       "  '3': 'There were no occupants',\n",
       "  '4': 'Detector failed to alert occupants',\n",
       "  'U': 'Undetermined'},\n",
       " 'det_fail': {'0': 'Detector failure reason, other',\n",
       "  '1': 'Power failure, hardwired det. shut off, disconnect',\n",
       "  '2': 'Improper installation or placement of detector',\n",
       "  '3': 'Defective detector',\n",
       "  '4': 'Lack of maintenance, includes not cleaning',\n",
       "  '5': 'Battery missing or disconnected',\n",
       "  '6': 'Battery discharged or dead',\n",
       "  'U': 'Undetermined'},\n",
       " 'det_operat': {'1': 'Fire too small to activate detector',\n",
       "  '2': 'Detector operated',\n",
       "  '3': 'Detector failed to operate',\n",
       "  'U': 'Undetermined'},\n",
       " 'det_power': {'0': 'Detector power supply, other',\n",
       "  '1': 'Battery only',\n",
       "  '2': 'Hardwire only',\n",
       "  '3': 'Plug-in',\n",
       "  '4': 'Hardwire with battery backup',\n",
       "  '5': 'Plug-in with battery backup',\n",
       "  '6': 'Mechanical',\n",
       "  '7': 'Multiple detectors and power supplies',\n",
       "  'U': 'Undetermined'},\n",
       " 'det_type': {'0': 'Detector type, other',\n",
       "  '1': 'Smoke',\n",
       "  '2': 'Heat',\n",
       "  '3': 'Combination smoke and heat in a single unit',\n",
       "  '4': 'Sprinkler, water flow detection',\n",
       "  '5': 'More than one type present',\n",
       "  'U': 'Undetermined'},\n",
       " 'detector': {'1': 'Present', 'N': 'None present', 'U': 'Undetermined'},\n",
       " 'inc_type': {'111': 'Building fire',\n",
       "  '112': 'Fires in structure other than in a building',\n",
       "  '113': 'Cooking fire, confined to container',\n",
       "  '114': 'Chimney or flue fire, confined to chimney or flue',\n",
       "  '115': 'Incinerator overload or malfunction, fire confined',\n",
       "  '116': 'Fuel burner/boiler malfunction, fire confined',\n",
       "  '117': 'Commercial Compactor fire, confined to rubbish',\n",
       "  '118': 'Trash or rubbish fire, contained',\n",
       "  '120': 'Fire in mobile prop. used as a fixed struc., other',\n",
       "  '121': 'Fire in mobile home used as fixed residence',\n",
       "  '122': 'Fire in motor home, camper, recreational vehicle',\n",
       "  '123': 'Fire in portable building, fixed location'}}"
      ]
     },
     "execution_count": 12,
     "metadata": {},
     "output_type": "execute_result"
    }
   ],
   "source": [
    "nfirs_dictionary"
   ]
  },
  {
   "cell_type": "code",
   "execution_count": null,
   "metadata": {},
   "outputs": [],
   "source": []
  },
  {
   "cell_type": "code",
   "execution_count": null,
   "metadata": {},
   "outputs": [],
   "source": []
  },
  {
   "cell_type": "code",
   "execution_count": null,
   "metadata": {},
   "outputs": [],
   "source": []
  },
  {
   "cell_type": "code",
   "execution_count": null,
   "metadata": {},
   "outputs": [],
   "source": []
  }
 ],
 "metadata": {
  "kernelspec": {
   "display_name": "Python 3",
   "language": "python",
   "name": "python3"
  },
  "language_info": {
   "codemirror_mode": {
    "name": "ipython",
    "version": 3
   },
   "file_extension": ".py",
   "mimetype": "text/x-python",
   "name": "python",
   "nbconvert_exporter": "python",
   "pygments_lexer": "ipython3",
   "version": "3.6.8"
  }
 },
 "nbformat": 4,
 "nbformat_minor": 4
}
